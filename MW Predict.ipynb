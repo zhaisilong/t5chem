{
 "nbformat": 4,
 "nbformat_minor": 0,
 "metadata": {
  "accelerator": "GPU",
  "colab": {
   "name": "Predict MW with T5Chem.ipynb",
   "provenance": [],
   "collapsed_sections": []
  },
  "kernelspec": {
   "display_name": "Python 3",
   "name": "python3"
  },
  "language_info": {
   "name": "python"
  }
 },
 "cells": [
  {
   "cell_type": "code",
   "source": [
    "# Read data\n",
    "import pandas as pd\n",
    "raw_df = pd.read_csv(\".cache/gdb13.1M.freq.ll.smi\", header=None, sep='\\t')\n",
    "raw_df.head()"
   ],
   "metadata": {
    "colab": {
     "base_uri": "https://localhost:8080/",
     "height": 206
    },
    "id": "XVvRavqR_yLy",
    "outputId": "3d243304-8ca1-4be4-aa02-1f2666fcce60",
    "pycharm": {
     "name": "#%%\n"
    }
   },
   "execution_count": 4,
   "outputs": [
    {
     "data": {
      "text/plain": "                               0  1          2\n0       C1=Cc2cc1nnc1snc(o2)-o-1  0  68.182535\n1  N1C2C3C4C5NC6C7C6C5(C13)C2N47  0  67.352869\n2  c1c2c[nH]c(nn3cnc(c#1)c3)-s-2  0  65.054106\n3        N=c1-c2cnn-1cnccc(=O)c2  0  62.522982\n4        C=Nn1-c2cccconc-1[nH]c2  0  59.586299",
      "text/html": "<div>\n<style scoped>\n    .dataframe tbody tr th:only-of-type {\n        vertical-align: middle;\n    }\n\n    .dataframe tbody tr th {\n        vertical-align: top;\n    }\n\n    .dataframe thead th {\n        text-align: right;\n    }\n</style>\n<table border=\"1\" class=\"dataframe\">\n  <thead>\n    <tr style=\"text-align: right;\">\n      <th></th>\n      <th>0</th>\n      <th>1</th>\n      <th>2</th>\n    </tr>\n  </thead>\n  <tbody>\n    <tr>\n      <th>0</th>\n      <td>C1=Cc2cc1nnc1snc(o2)-o-1</td>\n      <td>0</td>\n      <td>68.182535</td>\n    </tr>\n    <tr>\n      <th>1</th>\n      <td>N1C2C3C4C5NC6C7C6C5(C13)C2N47</td>\n      <td>0</td>\n      <td>67.352869</td>\n    </tr>\n    <tr>\n      <th>2</th>\n      <td>c1c2c[nH]c(nn3cnc(c#1)c3)-s-2</td>\n      <td>0</td>\n      <td>65.054106</td>\n    </tr>\n    <tr>\n      <th>3</th>\n      <td>N=c1-c2cnn-1cnccc(=O)c2</td>\n      <td>0</td>\n      <td>62.522982</td>\n    </tr>\n    <tr>\n      <th>4</th>\n      <td>C=Nn1-c2cccconc-1[nH]c2</td>\n      <td>0</td>\n      <td>59.586299</td>\n    </tr>\n  </tbody>\n</table>\n</div>"
     },
     "execution_count": 4,
     "metadata": {},
     "output_type": "execute_result"
    }
   ]
  },
  {
   "cell_type": "code",
   "metadata": {
    "colab": {
     "base_uri": "https://localhost:8080/",
     "height": 206
    },
    "id": "ddSU-U8WCxAH",
    "outputId": "ab8a5496-d264-45f3-8951-6c8e2e680678",
    "pycharm": {
     "name": "#%%\n"
    }
   },
   "source": [
    "# Generate canonical smiles and molecular weights\n",
    "from rdkit import Chem\n",
    "from rdkit.Chem import Descriptors\n",
    "# 标准化\n",
    "raw_df['SMILES'] = raw_df[0].apply(Chem.CanonSmiles)\n",
    "# 计算分子量\n",
    "GetMW = lambda x: Descriptors.MolWt(Chem.MolFromSmiles(x))\n",
    "raw_df['MW'] = raw_df['SMILES'].apply(GetMW)\n",
    "raw_df.head()"
   ],
   "execution_count": 5,
   "outputs": [
    {
     "data": {
      "text/plain": "                               0  1          2                         SMILES  \\\n0       C1=Cc2cc1nnc1snc(o2)-o-1  0  68.182535     C1=CC2=NN=C3OC(=NS3)OC1=C2   \n1  N1C2C3C4C5NC6C7C6C5(C13)C2N47  0  67.352869  N1C2C3C4C5NC6C7C6C5(C13)C2N47   \n2  c1c2c[nH]c(nn3cnc(c#1)c3)-s-2  0  65.054106       C1#Cc2cn(cn2)N=C2NC=C1S2   \n3        N=c1-c2cnn-1cnccc(=O)c2  0  62.522982      N=C1C2=CC(=O)C=CN=CN1N=C2   \n4        C=Nn1-c2cccconc-1[nH]c2  0  59.586299         C=NN1C2=CNC1=NOC=CC=C2   \n\n        MW  \n0  193.187  \n1  173.219  \n2  188.215  \n3  174.163  \n4  176.179  ",
      "text/html": "<div>\n<style scoped>\n    .dataframe tbody tr th:only-of-type {\n        vertical-align: middle;\n    }\n\n    .dataframe tbody tr th {\n        vertical-align: top;\n    }\n\n    .dataframe thead th {\n        text-align: right;\n    }\n</style>\n<table border=\"1\" class=\"dataframe\">\n  <thead>\n    <tr style=\"text-align: right;\">\n      <th></th>\n      <th>0</th>\n      <th>1</th>\n      <th>2</th>\n      <th>SMILES</th>\n      <th>MW</th>\n    </tr>\n  </thead>\n  <tbody>\n    <tr>\n      <th>0</th>\n      <td>C1=Cc2cc1nnc1snc(o2)-o-1</td>\n      <td>0</td>\n      <td>68.182535</td>\n      <td>C1=CC2=NN=C3OC(=NS3)OC1=C2</td>\n      <td>193.187</td>\n    </tr>\n    <tr>\n      <th>1</th>\n      <td>N1C2C3C4C5NC6C7C6C5(C13)C2N47</td>\n      <td>0</td>\n      <td>67.352869</td>\n      <td>N1C2C3C4C5NC6C7C6C5(C13)C2N47</td>\n      <td>173.219</td>\n    </tr>\n    <tr>\n      <th>2</th>\n      <td>c1c2c[nH]c(nn3cnc(c#1)c3)-s-2</td>\n      <td>0</td>\n      <td>65.054106</td>\n      <td>C1#Cc2cn(cn2)N=C2NC=C1S2</td>\n      <td>188.215</td>\n    </tr>\n    <tr>\n      <th>3</th>\n      <td>N=c1-c2cnn-1cnccc(=O)c2</td>\n      <td>0</td>\n      <td>62.522982</td>\n      <td>N=C1C2=CC(=O)C=CN=CN1N=C2</td>\n      <td>174.163</td>\n    </tr>\n    <tr>\n      <th>4</th>\n      <td>C=Nn1-c2cccconc-1[nH]c2</td>\n      <td>0</td>\n      <td>59.586299</td>\n      <td>C=NN1C2=CNC1=NOC=CC=C2</td>\n      <td>176.179</td>\n    </tr>\n  </tbody>\n</table>\n</div>"
     },
     "execution_count": 5,
     "metadata": {},
     "output_type": "execute_result"
    }
   ]
  },
  {
   "cell_type": "code",
   "execution_count": 6,
   "outputs": [],
   "source": [
    "# save intermediate results\n",
    "raw_df.to_pickle('.cache/raw_df.pickle')\n",
    "# reload intermediate results\n",
    "raw_df = pd.read_pickle('.cache/raw_df.pickle')"
   ],
   "metadata": {
    "collapsed": false,
    "pycharm": {
     "name": "#%%\n"
    }
   }
  },
  {
   "cell_type": "markdown",
   "source": [
    "# 分数据集"
   ],
   "metadata": {
    "id": "KQrJ78F-D4yI",
    "pycharm": {
     "name": "#%% md\n"
    }
   }
  },
  {
   "cell_type": "code",
   "source": [
    "import numpy as np\n",
    "np.random.seed(42)\n",
    "\n",
    "shuffled_index = np.random.permutation(len(raw_df))\n",
    "train_idx = shuffled_index[:int(len(raw_df)*0.8)]\n",
    "val_idx = shuffled_index[int(len(raw_df)*0.8):int(len(raw_df)*0.9)]\n",
    "test_idx = shuffled_index[int(len(raw_df)*0.9):]"
   ],
   "metadata": {
    "id": "6E-rCZEbClmw",
    "pycharm": {
     "name": "#%%\n"
    }
   },
   "execution_count": 8,
   "outputs": []
  },
  {
   "cell_type": "markdown",
   "source": [
    "Note that T5Chem for regression was initially designed for predicting reaction yield. Therefore, here I applied min-max scaling to the whole dataset based on train samples:"
   ],
   "metadata": {
    "id": "imEfyElYGfBx",
    "pycharm": {
     "name": "#%% md\n"
    }
   }
  },
  {
   "cell_type": "code",
   "source": [
    "class Scaler(object):\n",
    "    def __init__(self, data, span=(0,100)):\n",
    "        self.min = np.min(data)\n",
    "        self.max = np.max(data)\n",
    "        self.span = span\n",
    "        self.scale = (span[1]-span[0])/(self.max-self.min)\n",
    "        self.min_ = span[0] - self.min * self.scale\n",
    "\n",
    "    def encode(self, x):\n",
    "        if x > self.max:\n",
    "            return self.span[1]\n",
    "        elif x < self.min:\n",
    "            return self.span[0]\n",
    "        x *= self.scale\n",
    "        x += self.min_\n",
    "        return x\n",
    "\n",
    "    def decode(self,x):\n",
    "        x -= self.min_\n",
    "        x /= self.scale\n",
    "        return x"
   ],
   "metadata": {
    "id": "6325RwE6_N_o",
    "pycharm": {
     "name": "#%%\n"
    }
   },
   "execution_count": 9,
   "outputs": []
  },
  {
   "cell_type": "code",
   "metadata": {
    "id": "1_nEy51hGPsb",
    "pycharm": {
     "name": "#%%\n"
    }
   },
   "source": [
    "# We obtained the scaler with ONLY training samples!\n",
    "scaler = Scaler(raw_df['MW'][train_idx])\n",
    "# Then apply it to whole dataset\n",
    "raw_df['MW_converted'] = raw_df['MW'].apply(scaler.encode)"
   ],
   "execution_count": 10,
   "outputs": []
  },
  {
   "cell_type": "code",
   "metadata": {
    "id": "1hE1Pe8vVMaC",
    "pycharm": {
     "name": "#%%\n"
    }
   },
   "source": [
    "import os\n",
    "import tqdm\n",
    "os.makedirs(\"data/MW/\", exist_ok=True)\n",
    "train_source = open(\"data/MW/train.source\", \"w\")\n",
    "train_target = open(\"data/MW/train.target\", \"w\")\n",
    "val_source = open(\"data/MW/val.source\", \"w\")\n",
    "val_target = open(\"data/MW/val.target\", \"w\")\n",
    "test_source = open(\"data/MW/test.source\", \"w\")\n",
    "test_target = open(\"data/MW/test.target\", \"w\")\n",
    "with tqdm.tqdm(raw_df.iterrows(), total=len(raw_df)) as pbar:\n",
    "    for i,item in pbar:\n",
    "      if i in train_idx:\n",
    "        print(item['SMILES'], file=train_source)\n",
    "        print(item['MW_converted'], file=train_target)\n",
    "      elif i in val_idx:\n",
    "        print(item['SMILES'], file=val_source)\n",
    "        print(item['MW_converted'], file=val_target)\n",
    "      else:\n",
    "        print(item['SMILES'], file=test_source)\n",
    "        print(item['MW_converted'], file=test_target)\n",
    "train_source.close()\n",
    "train_target.close()\n",
    "val_source.close()\n",
    "val_target.close()\n",
    "test_source.close()\n",
    "test_target.close()"
   ],
   "execution_count": 13,
   "outputs": [
    {
     "name": "stderr",
     "output_type": "stream",
     "text": [
      "100%|██████████| 1000000/1000000 [07:31<00:00, 2213.76it/s]\n"
     ]
    }
   ]
  },
  {
   "cell_type": "markdown",
   "source": [
    "# Download a pretrained model\n",
    "- <https://yzhang.hpc.nyu.edu/T5Chem/models/simple_pretrain.tar.bz2>\n",
    "\n",
    "```tar -xjvf simple_pretrain.tar.bz2```"
   ],
   "metadata": {
    "id": "Y8Olr6mVLBHG",
    "pycharm": {
     "name": "#%% md\n"
    }
   }
  },
  {
   "cell_type": "markdown",
   "source": [
    "# Train a model\n",
    "在 GPU 上需要大约 20 mins\n",
    "\n",
    "```shell\n",
    "t5chem train --data_dir data/MW/ --output_dir model/ --pretrain models/pretrain/simple/ --task_type regression --num_epoch 1\n",
    "```"
   ],
   "metadata": {
    "id": "kFZNmddKMDQp",
    "pycharm": {
     "name": "#%% md\n"
    }
   }
  },
  {
   "cell_type": "markdown",
   "source": [
    "# Make predictions\n",
    "Even though we could have had a better model if we trained for longer time, due to time concern, let's just use the final checkpoint to make predictions."
   ],
   "metadata": {
    "id": "4tVZ6cKUPlTY",
    "pycharm": {
     "name": "#%% md\n"
    }
   }
  },
  {
   "cell_type": "code",
   "source": [
    "!t5chem predict --data_dir t5chem/data/MW/ --model_dir model/ --prediction model/raw_predictions.csv\n",
    "!tensorboard --logdir model/runs/"
   ],
   "metadata": {
    "colab": {
     "base_uri": "https://localhost:8080/"
    },
    "id": "--etSRbo9SpM",
    "outputId": "4af8dd52-6041-4cba-8c41-f0c827f3f4f1",
    "pycharm": {
     "name": "#%%\n"
    }
   },
   "execution_count": null,
   "outputs": [
    {
     "output_type": "stream",
     "name": "stdout",
     "text": [
      "prediction: 100%|███████████████████████████| 1563/1563 [00:29<00:00, 53.11it/s]\n",
      "MAE: 0.11072250106811524    RMSE: 0.20774499148766476    r2: 0.9987780558180899    r:0.9993888411514759\n"
     ]
    }
   ]
  },
  {
   "cell_type": "code",
   "source": [
    "scaled_predictions = pd.read_csv(\"model/raw_predictions.csv\")\n",
    "scaled_predictions.head()"
   ],
   "metadata": {
    "colab": {
     "base_uri": "https://localhost:8080/",
     "height": 206
    },
    "id": "q8Pw-g-o9JJy",
    "outputId": "9192958f-4710-4e12-c318-18cf73cf3d47",
    "pycharm": {
     "name": "#%%\n"
    }
   },
   "execution_count": null,
   "outputs": [
    {
     "output_type": "execute_result",
     "data": {
      "text/plain": [
       "      target  prediction\n",
       "0  50.522610   50.450325\n",
       "1  50.547855   50.582577\n",
       "2  53.039715   53.022133\n",
       "3  51.767277   50.822006\n",
       "4  50.494839   50.515278"
      ],
      "text/html": [
       "<div>\n",
       "<style scoped>\n",
       "    .dataframe tbody tr th:only-of-type {\n",
       "        vertical-align: middle;\n",
       "    }\n",
       "\n",
       "    .dataframe tbody tr th {\n",
       "        vertical-align: top;\n",
       "    }\n",
       "\n",
       "    .dataframe thead th {\n",
       "        text-align: right;\n",
       "    }\n",
       "</style>\n",
       "<table border=\"1\" class=\"dataframe\">\n",
       "  <thead>\n",
       "    <tr style=\"text-align: right;\">\n",
       "      <th></th>\n",
       "      <th>target</th>\n",
       "      <th>prediction</th>\n",
       "    </tr>\n",
       "  </thead>\n",
       "  <tbody>\n",
       "    <tr>\n",
       "      <th>0</th>\n",
       "      <td>50.522610</td>\n",
       "      <td>50.450325</td>\n",
       "    </tr>\n",
       "    <tr>\n",
       "      <th>1</th>\n",
       "      <td>50.547855</td>\n",
       "      <td>50.582577</td>\n",
       "    </tr>\n",
       "    <tr>\n",
       "      <th>2</th>\n",
       "      <td>53.039715</td>\n",
       "      <td>53.022133</td>\n",
       "    </tr>\n",
       "    <tr>\n",
       "      <th>3</th>\n",
       "      <td>51.767277</td>\n",
       "      <td>50.822006</td>\n",
       "    </tr>\n",
       "    <tr>\n",
       "      <th>4</th>\n",
       "      <td>50.494839</td>\n",
       "      <td>50.515278</td>\n",
       "    </tr>\n",
       "  </tbody>\n",
       "</table>\n",
       "</div>"
      ]
     },
     "metadata": {},
     "execution_count": 25
    }
   ]
  },
  {
   "cell_type": "markdown",
   "source": [
    "Let's convert it back to its original scale:"
   ],
   "metadata": {
    "id": "tp9lDC-gUc04",
    "pycharm": {
     "name": "#%% md\n"
    }
   }
  },
  {
   "cell_type": "code",
   "source": [
    "scaled_predictions['True_target'] = scaled_predictions['target'].apply(scaler.decode)\n",
    "scaled_predictions['True_prediction'] = scaled_predictions['prediction'].apply(scaler.decode)\n",
    "scaled_predictions.head()"
   ],
   "metadata": {
    "colab": {
     "base_uri": "https://localhost:8080/",
     "height": 206
    },
    "id": "FuyppQrw9fe4",
    "outputId": "50b7dcd4-ca10-46b1-b043-269b29ca1504",
    "pycharm": {
     "name": "#%%\n"
    }
   },
   "execution_count": null,
   "outputs": [
    {
     "output_type": "execute_result",
     "data": {
      "text/plain": [
       "      target  prediction  True_target  True_prediction\n",
       "0  50.522610   50.450325   176.179002       176.064477\n",
       "1  50.547855   50.582577   176.219000       176.274011\n",
       "2  53.039715   53.022133   180.167003       180.139146\n",
       "3  51.767277   50.822006   178.151003       176.653354\n",
       "4  50.494839   50.515278   176.135003       176.167386"
      ],
      "text/html": [
       "<div>\n",
       "<style scoped>\n",
       "    .dataframe tbody tr th:only-of-type {\n",
       "        vertical-align: middle;\n",
       "    }\n",
       "\n",
       "    .dataframe tbody tr th {\n",
       "        vertical-align: top;\n",
       "    }\n",
       "\n",
       "    .dataframe thead th {\n",
       "        text-align: right;\n",
       "    }\n",
       "</style>\n",
       "<table border=\"1\" class=\"dataframe\">\n",
       "  <thead>\n",
       "    <tr style=\"text-align: right;\">\n",
       "      <th></th>\n",
       "      <th>target</th>\n",
       "      <th>prediction</th>\n",
       "      <th>True_target</th>\n",
       "      <th>True_prediction</th>\n",
       "    </tr>\n",
       "  </thead>\n",
       "  <tbody>\n",
       "    <tr>\n",
       "      <th>0</th>\n",
       "      <td>50.522610</td>\n",
       "      <td>50.450325</td>\n",
       "      <td>176.179002</td>\n",
       "      <td>176.064477</td>\n",
       "    </tr>\n",
       "    <tr>\n",
       "      <th>1</th>\n",
       "      <td>50.547855</td>\n",
       "      <td>50.582577</td>\n",
       "      <td>176.219000</td>\n",
       "      <td>176.274011</td>\n",
       "    </tr>\n",
       "    <tr>\n",
       "      <th>2</th>\n",
       "      <td>53.039715</td>\n",
       "      <td>53.022133</td>\n",
       "      <td>180.167003</td>\n",
       "      <td>180.139146</td>\n",
       "    </tr>\n",
       "    <tr>\n",
       "      <th>3</th>\n",
       "      <td>51.767277</td>\n",
       "      <td>50.822006</td>\n",
       "      <td>178.151003</td>\n",
       "      <td>176.653354</td>\n",
       "    </tr>\n",
       "    <tr>\n",
       "      <th>4</th>\n",
       "      <td>50.494839</td>\n",
       "      <td>50.515278</td>\n",
       "      <td>176.135003</td>\n",
       "      <td>176.167386</td>\n",
       "    </tr>\n",
       "  </tbody>\n",
       "</table>\n",
       "</div>"
      ]
     },
     "metadata": {},
     "execution_count": 33
    }
   ]
  },
  {
   "cell_type": "markdown",
   "source": [
    "And take a look at its MAE/RMSE"
   ],
   "metadata": {
    "id": "CIlB1MyhVEhP",
    "pycharm": {
     "name": "#%% md\n"
    }
   }
  },
  {
   "cell_type": "code",
   "metadata": {
    "colab": {
     "base_uri": "https://localhost:8080/"
    },
    "id": "3_QfyFKdav8v",
    "outputId": "23fa0618-b4fa-4725-9e1b-c9a3e5a18793",
    "pycharm": {
     "name": "#%%\n"
    }
   },
   "source": [
    "from sklearn.metrics import mean_absolute_error, mean_squared_error\n",
    "\n",
    "MAE = mean_absolute_error(scaled_predictions['True_target'], scaled_predictions['True_prediction'])\n",
    "MSE = mean_squared_error(scaled_predictions['True_target'], scaled_predictions['True_prediction'])\n",
    "print(\"MAE: {}    RMSE: {}\".format(MAE, MSE**0.5))"
   ],
   "execution_count": null,
   "outputs": [
    {
     "output_type": "stream",
     "name": "stdout",
     "text": [
      "MAE: 0.17542430179227897    RMSE: 0.3291428547133963\n"
     ]
    }
   ]
  },
  {
   "cell_type": "markdown",
   "metadata": {
    "id": "UGUBLzB3C6WN",
    "pycharm": {
     "name": "#%% md\n"
    }
   },
   "source": [
    "Well, not bad! \n",
    "\n",
    "In this notebook, we successfully trained a T5Chem model on molecular weight prediciton. Now this T5Chem can predict molecular weight from SMILES! \n",
    "\n",
    "\n",
    "**Bugs**\n",
    "- If you encounter any bugs, please report the issue to https://github.com/HelloJocelynLu/t5chem/issues\n"
   ]
  },
  {
   "cell_type": "code",
   "source": [],
   "metadata": {
    "id": "95iGPAkRWT1J",
    "pycharm": {
     "name": "#%%\n"
    }
   },
   "execution_count": null,
   "outputs": []
  }
 ]
}