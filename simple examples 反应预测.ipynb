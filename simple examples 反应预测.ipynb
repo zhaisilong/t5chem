{
 "cells": [
  {
   "cell_type": "code",
   "execution_count": 2,
   "metadata": {
    "collapsed": true,
    "pycharm": {
     "name": "#%%\n"
    }
   },
   "outputs": [],
   "source": [
    "from transformers import T5ForConditionalGeneration\n",
    "from t5chem import T5ForProperty, SimpleTokenizer\n",
    "import os"
   ]
  },
  {
   "cell_type": "code",
   "execution_count": 3,
   "outputs": [
    {
     "data": {
      "text/plain": "'COc1ccccc1-c1ccc(OCc2cc(C(=O)O)oc2C)cc1'"
     },
     "execution_count": 3,
     "metadata": {},
     "output_type": "execute_result"
    }
   ],
   "source": [
    "pretrain_path = \"models/USPTO_500_MT/\"\n",
    "model = T5ForConditionalGeneration.from_pretrained(pretrain_path)    # for seq2seq tasks\n",
    "tokenizer = SimpleTokenizer(vocab_file=os.path.join(pretrain_path, 'vocab.pt'))\n",
    "inputs = tokenizer.encode(\"Product:COC(=O)c1cc(COc2ccc(-c3ccccc3OC)cc2)c(C)o1.C1CCOC1>>\", return_tensors='pt')\n",
    "output = model.generate(input_ids=inputs, max_length=300, early_stopping=True)\n",
    "tokenizer.decode(output[0], skip_special_tokens=True) # \"COc1ccccc1-c1ccc(OCc2cc(C(=O)O)oc2C)cc1\""
   ],
   "metadata": {
    "collapsed": false,
    "pycharm": {
     "name": "#%%\n"
    }
   }
  },
  {
   "cell_type": "code",
   "execution_count": 4,
   "outputs": [
    {
     "name": "stdout",
     "output_type": "stream",
     "text": [
      "tensor(95)\n"
     ]
    }
   ],
   "source": [
    "model = T5ForProperty.from_pretrained(pretrain_path)  # for non-seq2seq task\n",
    "inputs = tokenizer.encode(\"Classification:COC(=O)c1cccc(C(=O)OC)c1>CN(C)N.Cl.O>COC(=O)c1cccc(C(=O)O)c1\", return_tensors='pt')\n",
    "outputs = model(inputs)\n",
    "print(outputs.logits.argmax())   # Class 3"
   ],
   "metadata": {
    "collapsed": false,
    "pycharm": {
     "name": "#%%\n"
    }
   }
  },
  {
   "cell_type": "code",
   "execution_count": null,
   "outputs": [],
   "source": [],
   "metadata": {
    "collapsed": false,
    "pycharm": {
     "name": "#%%\n"
    }
   }
  }
 ],
 "metadata": {
  "kernelspec": {
   "display_name": "Python 3",
   "language": "python",
   "name": "python3"
  },
  "language_info": {
   "codemirror_mode": {
    "name": "ipython",
    "version": 2
   },
   "file_extension": ".py",
   "mimetype": "text/x-python",
   "name": "python",
   "nbconvert_exporter": "python",
   "pygments_lexer": "ipython2",
   "version": "2.7.6"
  }
 },
 "nbformat": 4,
 "nbformat_minor": 0
}